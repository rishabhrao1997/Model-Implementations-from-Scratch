{
 "cells": [
  {
   "cell_type": "markdown",
   "metadata": {},
   "source": [
    "# Implementing KNN Classifier From Scratch"
   ]
  },
  {
   "cell_type": "markdown",
   "metadata": {},
   "source": [
    "## Importing Essential Modules"
   ]
  },
  {
   "cell_type": "code",
   "execution_count": null,
   "metadata": {},
   "outputs": [],
   "source": [
    "from sklearn.model_selection import train_test_split\n",
    "from sklearn.datasets import make_classification\n",
    "import numpy as np\n",
    "from sklearn.neighbors import KNeighborsClassifier\n",
    "\n",
    "#importing our custom implemented KNNCLassifier\n",
    "from KNN import KNNClassifier"
   ]
  },
  {
   "cell_type": "markdown",
   "metadata": {},
   "source": [
    "## Making the dataset"
   ]
  },
  {
   "cell_type": "code",
   "execution_count": 1,
   "metadata": {
    "ExecuteTime": {
     "end_time": "2020-10-08T06:19:55.825147Z",
     "start_time": "2020-10-08T06:19:54.546535Z"
    }
   },
   "outputs": [],
   "source": [
    "x, y = make_classification(n_samples = 5000, n_features = 5, \n",
    "                            n_informative = 3, n_redundant = 2, n_classes = 2, weights = [0.7])\n",
    "x_train, x_test, y_train, y_test = train_test_split(x, y, stratify = y, test_size = 0.3)"
   ]
  },
  {
   "cell_type": "markdown",
   "metadata": {},
   "source": [
    "## Testing Custom Implemented KNN Classifier"
   ]
  },
  {
   "cell_type": "code",
   "execution_count": 2,
   "metadata": {
    "ExecuteTime": {
     "end_time": "2020-10-08T06:21:05.643438Z",
     "start_time": "2020-10-08T06:19:56.472481Z"
    }
   },
   "outputs": [
    {
     "name": "stdout",
     "output_type": "stream",
     "text": [
      "KNeighborsClassifier, K = 11\n",
      "First 10 class outputs from Custom Implemented KNN are:\n",
      "[0. 0. 0. 0. 0.]\n",
      "First 5 probability outputs from Custom Implemented KNN are:\n",
      "[[1.         0.        ]\n",
      " [1.         0.        ]\n",
      " [0.90909091 0.09090909]\n",
      " [1.         0.        ]\n",
      " [1.         0.        ]]\n"
     ]
    }
   ],
   "source": [
    "knn = KNNClassifier(K = 11)\n",
    "knn.fit(x_train, y_train)\n",
    "y_pred = knn.predict(x_test)\n",
    "y_pred_proba = knn.predict_proba(x_test)\n",
    "print(\"First 5 class outputs from Custom Implemented KNN are:\")\n",
    "print(y_pred[:5])\n",
    "print(\"First 5 probability outputs from Custom Implemented KNN are:\")\n",
    "print(y_pred_proba[:5])"
   ]
  },
  {
   "cell_type": "markdown",
   "metadata": {},
   "source": [
    "## Comparing with Sk-learn's KNN output"
   ]
  },
  {
   "cell_type": "code",
   "execution_count": 3,
   "metadata": {
    "ExecuteTime": {
     "end_time": "2020-10-08T06:23:28.639305Z",
     "start_time": "2020-10-08T06:23:28.314623Z"
    }
   },
   "outputs": [
    {
     "name": "stdout",
     "output_type": "stream",
     "text": [
      "First 5 class outputs from Sklearn's KNN are:\n",
      "[0 0 0 0 0]\n",
      "First 5 probability outputs from Sklearn's Implemented KNN are:\n",
      "[[1.         0.        ]\n",
      " [1.         0.        ]\n",
      " [0.90909091 0.09090909]\n",
      " [1.         0.        ]\n",
      " [1.         0.        ]]\n"
     ]
    }
   ],
   "source": [
    "knn_sk = KNeighborsClassifier(11, algorithm = 'brute')\n",
    "knn_sk.fit(x_train,y_train)\n",
    "y_pred_sk = knn_sk.predict(x_test)\n",
    "y_pred_proba_sk = knn_sk.predict_proba(x_test)\n",
    "print(\"First 5 class outputs from Sklearn's KNN are:\")\n",
    "print(y_pred_sk[:5])\n",
    "print(\"First 5 probability outputs from Sklearn's Implemented KNN are:\")\n",
    "print(y_pred_proba_sk[:5])"
   ]
  }
 ],
 "metadata": {
  "hide_input": false,
  "kernelspec": {
   "display_name": "Python 3",
   "language": "python",
   "name": "python3"
  },
  "language_info": {
   "codemirror_mode": {
    "name": "ipython",
    "version": 3
   },
   "file_extension": ".py",
   "mimetype": "text/x-python",
   "name": "python",
   "nbconvert_exporter": "python",
   "pygments_lexer": "ipython3",
   "version": "3.6.5"
  },
  "toc": {
   "base_numbering": 1,
   "nav_menu": {},
   "number_sections": true,
   "sideBar": true,
   "skip_h1_title": false,
   "title_cell": "Table of Contents",
   "title_sidebar": "Contents",
   "toc_cell": false,
   "toc_position": {},
   "toc_section_display": true,
   "toc_window_display": false
  }
 },
 "nbformat": 4,
 "nbformat_minor": 4
}
